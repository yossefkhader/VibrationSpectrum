{
 "cells": [
  {
   "attachments": {},
   "cell_type": "markdown",
   "metadata": {},
   "source": [
    "For First Time Usage run this code block, then after that you can delete it."
   ]
  },
  {
   "cell_type": "code",
   "execution_count": null,
   "metadata": {},
   "outputs": [],
   "source": [
    "!pip install endaq\n",
    "!pip install plotly\n",
    "!pip install pandas\n",
    "!pip install nbformat"
   ]
  },
  {
   "attachments": {},
   "cell_type": "markdown",
   "metadata": {},
   "source": [
    "Importing the used modules in this file."
   ]
  },
  {
   "cell_type": "code",
   "execution_count": null,
   "metadata": {},
   "outputs": [],
   "source": [
    "import endaq\n",
    "\n",
    "endaq.plot.utilities.set_theme(theme='endaq')\n",
    "\n",
    "import plotly.express as px\n",
    "import pandas as pd"
   ]
  },
  {
   "attachments": {},
   "cell_type": "markdown",
   "metadata": {},
   "source": [
    "Importing the data from the csv file"
   ]
  },
  {
   "cell_type": "code",
   "execution_count": null,
   "metadata": {},
   "outputs": [],
   "source": [
    "dataTable = pd.read_csv(\n",
    "     'test6.csv', #CSV file path\n",
    "     delimiter=',', \n",
    "     parse_dates=[['Date', 'Time']], #merging the Date and Time columns\n",
    "     header=0,\n",
    "     index_col=0,\n",
    ")\n",
    "dataTable #keep it if you want to show the chart below"
   ]
  },
  {
   "attachments": {},
   "cell_type": "markdown",
   "metadata": {},
   "source": [
    "Managing the chart layout"
   ]
  },
  {
   "cell_type": "code",
   "execution_count": null,
   "metadata": {},
   "outputs": [],
   "source": [
    "fig = px.line(dataTable)\n",
    "fig.update_layout(\n",
    "    yaxis_title_text = 'Acceleration (g)', #Y axis name\n",
    "    xaxis_title_text = 'Date And Time', #X axis name\n",
    "    legend = dict(\n",
    "        title=\"Data Chart\", \n",
    "        orientation=\"h\", \n",
    "        y=1, \n",
    "        yanchor=\"bottom\", \n",
    "        x=0.5, \n",
    "        xanchor=\"center\"\n",
    "    )\n",
    "\n",
    "    # if you want to change the size of the Chart, uncomment the next lines and change the values.\n",
    "    # autosize=False,\n",
    "    # width=1920,\n",
    "    # height=1080\n",
    ")"
   ]
  }
 ],
 "metadata": {
  "kernelspec": {
   "display_name": "Python 3",
   "language": "python",
   "name": "python3"
  },
  "language_info": {
   "codemirror_mode": {
    "name": "ipython",
    "version": 3
   },
   "file_extension": ".py",
   "mimetype": "text/x-python",
   "name": "python",
   "nbconvert_exporter": "python",
   "pygments_lexer": "ipython3",
   "version": "3.11.1"
  },
  "orig_nbformat": 4
 },
 "nbformat": 4,
 "nbformat_minor": 2
}
